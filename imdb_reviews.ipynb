{
 "cells": [
  {
   "cell_type": "markdown",
   "metadata": {},
   "source": [
    "## Set up the environment"
   ]
  },
  {
   "cell_type": "code",
   "execution_count": 1,
   "metadata": {},
   "outputs": [
    {
     "name": "stdout",
     "output_type": "stream",
     "text": [
      "C:\\Users\\dleszk01\n"
     ]
    }
   ],
   "source": [
    "import pandas as pd\n",
    "import numpy as np\n",
    "import os\n",
    "import re\n",
    "from nltk.corpus import stopwords\n",
    "from wordcloud import WordCloud\n",
    "from collections import Counter\n",
    "import seaborn as sns\n",
    "from nltk.stem.wordnet import WordNetLemmatizer\n",
    "from sklearn.feature_extraction.text import CountVectorizer\n",
    "from sklearn.decomposition import LatentDirichletAllocation as LDA\n",
    "import matplotlib.pyplot as plt\n",
    "from sklearn.feature_extraction.text import TfidfVectorizer\n",
    "from sklearn.model_selection import train_test_split\n",
    "from sklearn.ensemble import RandomForestClassifier\n",
    "import xgboost as xgb\n",
    "from sklearn.model_selection import cross_val_score\n",
    "from gensim.models.doc2vec import TaggedDocument, Doc2Vec\n",
    "from gensim.parsing.preprocessing import preprocess_string\n",
    "from sklearn.base import BaseEstimator\n",
    "from sklearn import utils as skl_utils\n",
    "from tqdm import tqdm\n",
    "import multiprocessing\n",
    "from sklearn.neural_network import MLPRegressor\n",
    "\n",
    "cwd = os.getcwd()\n",
    "print(cwd)"
   ]
  },
  {
   "cell_type": "code",
   "execution_count": 2,
   "metadata": {},
   "outputs": [],
   "source": [
    "## helper functions\n",
    "\n",
    "def barplot(words, words_counts, title):\n",
    "    fig = plt.figure(figsize=(18,6))\n",
    "    bar_plot = sns.barplot(x=words, y=words_counts)\n",
    "    for item in bar_plot.get_xticklabels():\n",
    "        item.set_rotation(90)\n",
    "    plt.title(title)\n",
    "    plt.show()\n",
    "\n",
    "def print_topics(model, count_vectorizer, n_top_words):\n",
    "    words = count_vectorizer.get_feature_names()\n",
    "    for topic_idx, topic in enumerate(model.components_):\n",
    "        print(\"\\nTopic #%d:\" % topic_idx)\n",
    "        print(\" \".join([words[i]\n",
    "                        for i in topic.argsort()[:-n_top_words - 1:-1]]))"
   ]
  },
  {
   "cell_type": "markdown",
   "metadata": {},
   "source": [
    "## Load the data"
   ]
  },
  {
   "cell_type": "code",
   "execution_count": 3,
   "metadata": {},
   "outputs": [
    {
     "data": {
      "text/html": [
       "<div>\n",
       "<style scoped>\n",
       "    .dataframe tbody tr th:only-of-type {\n",
       "        vertical-align: middle;\n",
       "    }\n",
       "\n",
       "    .dataframe tbody tr th {\n",
       "        vertical-align: top;\n",
       "    }\n",
       "\n",
       "    .dataframe thead th {\n",
       "        text-align: right;\n",
       "    }\n",
       "</style>\n",
       "<table border=\"1\" class=\"dataframe\">\n",
       "  <thead>\n",
       "    <tr style=\"text-align: right;\">\n",
       "      <th></th>\n",
       "      <th>review</th>\n",
       "      <th>sentiment</th>\n",
       "    </tr>\n",
       "  </thead>\n",
       "  <tbody>\n",
       "    <tr>\n",
       "      <td>0</td>\n",
       "      <td>An excellent cast who do their best with an aw...</td>\n",
       "      <td>negative</td>\n",
       "    </tr>\n",
       "    <tr>\n",
       "      <td>1</td>\n",
       "      <td>A dreary and pointless bit of fluff (bloody fl...</td>\n",
       "      <td>negative</td>\n",
       "    </tr>\n",
       "    <tr>\n",
       "      <td>2</td>\n",
       "      <td>If the writer/director is reading this (and I ...</td>\n",
       "      <td>negative</td>\n",
       "    </tr>\n",
       "    <tr>\n",
       "      <td>3</td>\n",
       "      <td>This is a classic B type movie that you'd rath...</td>\n",
       "      <td>negative</td>\n",
       "    </tr>\n",
       "    <tr>\n",
       "      <td>4</td>\n",
       "      <td>A short review but...&lt;br /&gt;&lt;br /&gt;Avoid at all ...</td>\n",
       "      <td>negative</td>\n",
       "    </tr>\n",
       "  </tbody>\n",
       "</table>\n",
       "</div>"
      ],
      "text/plain": [
       "                                              review sentiment\n",
       "0  An excellent cast who do their best with an aw...  negative\n",
       "1  A dreary and pointless bit of fluff (bloody fl...  negative\n",
       "2  If the writer/director is reading this (and I ...  negative\n",
       "3  This is a classic B type movie that you'd rath...  negative\n",
       "4  A short review but...<br /><br />Avoid at all ...  negative"
      ]
     },
     "execution_count": 3,
     "metadata": {},
     "output_type": "execute_result"
    }
   ],
   "source": [
    "df=pd.read_csv(r'C:\\Users\\dleszk01\\prywatne\\IMDB Dataset.csv\\IMDB Dataset.csv')\n",
    "df.head()"
   ]
  },
  {
   "cell_type": "markdown",
   "metadata": {},
   "source": [
    "## Preprocessing\n",
    "\n",
    "- Remove non-digit and non-letter parts\n",
    "\n",
    "- Remove stop words (but keep the word 'from')\n",
    "\n",
    "- Remove standalone numbers (remove '100' from '100 pieces')\n",
    "\n",
    "- Any other text cleaning and standard processing"
   ]
  },
  {
   "cell_type": "code",
   "execution_count": 4,
   "metadata": {},
   "outputs": [
    {
     "data": {
      "text/plain": [
       "review       0\n",
       "sentiment    0\n",
       "dtype: int64"
      ]
     },
     "execution_count": 4,
     "metadata": {},
     "output_type": "execute_result"
    }
   ],
   "source": [
    "# Check null values\n",
    "df.isna().sum()"
   ]
  },
  {
   "cell_type": "code",
   "execution_count": 5,
   "metadata": {},
   "outputs": [
    {
     "name": "stdout",
     "output_type": "stream",
     "text": [
      "<class 'pandas.core.frame.DataFrame'>\n",
      "RangeIndex: 27502 entries, 0 to 27501\n",
      "Data columns (total 2 columns):\n",
      "review       27502 non-null object\n",
      "sentiment    27502 non-null object\n",
      "dtypes: object(2)\n",
      "memory usage: 429.8+ KB\n"
     ]
    }
   ],
   "source": [
    "# Check data types\n",
    "df.info()"
   ]
  },
  {
   "cell_type": "code",
   "execution_count": 6,
   "metadata": {},
   "outputs": [],
   "source": [
    "# Transform reviews to lowercase\n",
    "df['review_clean'] = df['review'].astype(str).copy()\n",
    "df['review_clean'] = df['review_clean'].map(lambda x: x.lower())"
   ]
  },
  {
   "cell_type": "markdown",
   "metadata": {},
   "source": [
    "### Remove non-digit and non-letter parts"
   ]
  },
  {
   "cell_type": "code",
   "execution_count": 7,
   "metadata": {},
   "outputs": [
    {
     "data": {
      "text/html": [
       "<div>\n",
       "<style scoped>\n",
       "    .dataframe tbody tr th:only-of-type {\n",
       "        vertical-align: middle;\n",
       "    }\n",
       "\n",
       "    .dataframe tbody tr th {\n",
       "        vertical-align: top;\n",
       "    }\n",
       "\n",
       "    .dataframe thead th {\n",
       "        text-align: right;\n",
       "    }\n",
       "</style>\n",
       "<table border=\"1\" class=\"dataframe\">\n",
       "  <thead>\n",
       "    <tr style=\"text-align: right;\">\n",
       "      <th></th>\n",
       "      <th>review</th>\n",
       "      <th>sentiment</th>\n",
       "      <th>review_clean</th>\n",
       "    </tr>\n",
       "  </thead>\n",
       "  <tbody>\n",
       "    <tr>\n",
       "      <td>0</td>\n",
       "      <td>An excellent cast who do their best with an aw...</td>\n",
       "      <td>negative</td>\n",
       "      <td>an excellent cast who do their best with an aw...</td>\n",
       "    </tr>\n",
       "    <tr>\n",
       "      <td>1</td>\n",
       "      <td>A dreary and pointless bit of fluff (bloody fl...</td>\n",
       "      <td>negative</td>\n",
       "      <td>a dreary and pointless bit of fluff bloody flu...</td>\n",
       "    </tr>\n",
       "    <tr>\n",
       "      <td>2</td>\n",
       "      <td>If the writer/director is reading this (and I ...</td>\n",
       "      <td>negative</td>\n",
       "      <td>if the writerdirector is reading this and i im...</td>\n",
       "    </tr>\n",
       "    <tr>\n",
       "      <td>3</td>\n",
       "      <td>This is a classic B type movie that you'd rath...</td>\n",
       "      <td>negative</td>\n",
       "      <td>this is a classic b type movie that youd rathe...</td>\n",
       "    </tr>\n",
       "    <tr>\n",
       "      <td>4</td>\n",
       "      <td>A short review but...&lt;br /&gt;&lt;br /&gt;Avoid at all ...</td>\n",
       "      <td>negative</td>\n",
       "      <td>a short review butbr br avoid at all costs a t...</td>\n",
       "    </tr>\n",
       "  </tbody>\n",
       "</table>\n",
       "</div>"
      ],
      "text/plain": [
       "                                              review sentiment  \\\n",
       "0  An excellent cast who do their best with an aw...  negative   \n",
       "1  A dreary and pointless bit of fluff (bloody fl...  negative   \n",
       "2  If the writer/director is reading this (and I ...  negative   \n",
       "3  This is a classic B type movie that you'd rath...  negative   \n",
       "4  A short review but...<br /><br />Avoid at all ...  negative   \n",
       "\n",
       "                                        review_clean  \n",
       "0  an excellent cast who do their best with an aw...  \n",
       "1  a dreary and pointless bit of fluff bloody flu...  \n",
       "2  if the writerdirector is reading this and i im...  \n",
       "3  this is a classic b type movie that youd rathe...  \n",
       "4  a short review butbr br avoid at all costs a t...  "
      ]
     },
     "execution_count": 7,
     "metadata": {},
     "output_type": "execute_result"
    }
   ],
   "source": [
    "df['review_clean'] = df['review_clean'].map(lambda x: re.sub('[^a-zA-Z0-9|\\s]+', '', x))\n",
    "\n",
    "df.head()"
   ]
  },
  {
   "cell_type": "markdown",
   "metadata": {},
   "source": [
    "### Remove standalone numbers (remove '100' from '100 pieces')"
   ]
  },
  {
   "cell_type": "code",
   "execution_count": 8,
   "metadata": {},
   "outputs": [
    {
     "data": {
      "text/html": [
       "<div>\n",
       "<style scoped>\n",
       "    .dataframe tbody tr th:only-of-type {\n",
       "        vertical-align: middle;\n",
       "    }\n",
       "\n",
       "    .dataframe tbody tr th {\n",
       "        vertical-align: top;\n",
       "    }\n",
       "\n",
       "    .dataframe thead th {\n",
       "        text-align: right;\n",
       "    }\n",
       "</style>\n",
       "<table border=\"1\" class=\"dataframe\">\n",
       "  <thead>\n",
       "    <tr style=\"text-align: right;\">\n",
       "      <th></th>\n",
       "      <th>review</th>\n",
       "      <th>sentiment</th>\n",
       "      <th>review_clean</th>\n",
       "    </tr>\n",
       "  </thead>\n",
       "  <tbody>\n",
       "    <tr>\n",
       "      <td>0</td>\n",
       "      <td>An excellent cast who do their best with an aw...</td>\n",
       "      <td>negative</td>\n",
       "      <td>an excellent cast who do their best with an aw...</td>\n",
       "    </tr>\n",
       "    <tr>\n",
       "      <td>1</td>\n",
       "      <td>A dreary and pointless bit of fluff (bloody fl...</td>\n",
       "      <td>negative</td>\n",
       "      <td>a dreary and pointless bit of fluff bloody flu...</td>\n",
       "    </tr>\n",
       "    <tr>\n",
       "      <td>2</td>\n",
       "      <td>If the writer/director is reading this (and I ...</td>\n",
       "      <td>negative</td>\n",
       "      <td>if the writerdirector is reading this and i im...</td>\n",
       "    </tr>\n",
       "    <tr>\n",
       "      <td>3</td>\n",
       "      <td>This is a classic B type movie that you'd rath...</td>\n",
       "      <td>negative</td>\n",
       "      <td>this is a classic b type movie that youd rathe...</td>\n",
       "    </tr>\n",
       "    <tr>\n",
       "      <td>4</td>\n",
       "      <td>A short review but...&lt;br /&gt;&lt;br /&gt;Avoid at all ...</td>\n",
       "      <td>negative</td>\n",
       "      <td>a short review butbr br avoid at all costs a t...</td>\n",
       "    </tr>\n",
       "  </tbody>\n",
       "</table>\n",
       "</div>"
      ],
      "text/plain": [
       "                                              review sentiment  \\\n",
       "0  An excellent cast who do their best with an aw...  negative   \n",
       "1  A dreary and pointless bit of fluff (bloody fl...  negative   \n",
       "2  If the writer/director is reading this (and I ...  negative   \n",
       "3  This is a classic B type movie that you'd rath...  negative   \n",
       "4  A short review but...<br /><br />Avoid at all ...  negative   \n",
       "\n",
       "                                        review_clean  \n",
       "0  an excellent cast who do their best with an aw...  \n",
       "1  a dreary and pointless bit of fluff bloody flu...  \n",
       "2  if the writerdirector is reading this and i im...  \n",
       "3  this is a classic b type movie that youd rathe...  \n",
       "4  a short review butbr br avoid at all costs a t...  "
      ]
     },
     "execution_count": 8,
     "metadata": {},
     "output_type": "execute_result"
    }
   ],
   "source": [
    "df['review_clean'] = df['review_clean'].map(lambda x:re.sub(r'\\s*\\d+\\s*', ' ', x))\n",
    "\n",
    "df.head()"
   ]
  },
  {
   "cell_type": "markdown",
   "metadata": {},
   "source": [
    "### Remove stop words (but keep the word 'from')"
   ]
  },
  {
   "cell_type": "code",
   "execution_count": 9,
   "metadata": {},
   "outputs": [
    {
     "name": "stdout",
     "output_type": "stream",
     "text": [
      "False\n"
     ]
    },
    {
     "data": {
      "text/html": [
       "<div>\n",
       "<style scoped>\n",
       "    .dataframe tbody tr th:only-of-type {\n",
       "        vertical-align: middle;\n",
       "    }\n",
       "\n",
       "    .dataframe tbody tr th {\n",
       "        vertical-align: top;\n",
       "    }\n",
       "\n",
       "    .dataframe thead th {\n",
       "        text-align: right;\n",
       "    }\n",
       "</style>\n",
       "<table border=\"1\" class=\"dataframe\">\n",
       "  <thead>\n",
       "    <tr style=\"text-align: right;\">\n",
       "      <th></th>\n",
       "      <th>review</th>\n",
       "      <th>sentiment</th>\n",
       "      <th>review_clean</th>\n",
       "    </tr>\n",
       "  </thead>\n",
       "  <tbody>\n",
       "    <tr>\n",
       "      <td>0</td>\n",
       "      <td>An excellent cast who do their best with an aw...</td>\n",
       "      <td>negative</td>\n",
       "      <td>excellent cast best awful script inept directi...</td>\n",
       "    </tr>\n",
       "    <tr>\n",
       "      <td>1</td>\n",
       "      <td>A dreary and pointless bit of fluff (bloody fl...</td>\n",
       "      <td>negative</td>\n",
       "      <td>dreary pointless bit fluff bloody fluff fluff ...</td>\n",
       "    </tr>\n",
       "    <tr>\n",
       "      <td>2</td>\n",
       "      <td>If the writer/director is reading this (and I ...</td>\n",
       "      <td>negative</td>\n",
       "      <td>writerdirector reading imagine since work must...</td>\n",
       "    </tr>\n",
       "    <tr>\n",
       "      <td>3</td>\n",
       "      <td>This is a classic B type movie that you'd rath...</td>\n",
       "      <td>negative</td>\n",
       "      <td>classic b type movie youd rather waste time se...</td>\n",
       "    </tr>\n",
       "    <tr>\n",
       "      <td>4</td>\n",
       "      <td>A short review but...&lt;br /&gt;&lt;br /&gt;Avoid at all ...</td>\n",
       "      <td>negative</td>\n",
       "      <td>short review butbr br avoid costs thorough was...</td>\n",
       "    </tr>\n",
       "  </tbody>\n",
       "</table>\n",
       "</div>"
      ],
      "text/plain": [
       "                                              review sentiment  \\\n",
       "0  An excellent cast who do their best with an aw...  negative   \n",
       "1  A dreary and pointless bit of fluff (bloody fl...  negative   \n",
       "2  If the writer/director is reading this (and I ...  negative   \n",
       "3  This is a classic B type movie that you'd rath...  negative   \n",
       "4  A short review but...<br /><br />Avoid at all ...  negative   \n",
       "\n",
       "                                        review_clean  \n",
       "0  excellent cast best awful script inept directi...  \n",
       "1  dreary pointless bit fluff bloody fluff fluff ...  \n",
       "2  writerdirector reading imagine since work must...  \n",
       "3  classic b type movie youd rather waste time se...  \n",
       "4  short review butbr br avoid costs thorough was...  "
      ]
     },
     "execution_count": 9,
     "metadata": {},
     "output_type": "execute_result"
    }
   ],
   "source": [
    "# load raw stopwords\n",
    "stop_words = stopwords.words('english')\n",
    "\n",
    "# Remove 'from' from stopwords\n",
    "stop_words.remove('from')\n",
    "\n",
    "# Make sure that stopwords do not contain 'from' word\n",
    "print('from' in stop_words)\n",
    "\n",
    "df['review_clean'] = df['review_clean'].map(lambda x:' '.join([word for word in x.split() if word not in (stop_words)]))\n",
    "\n",
    "df.head()"
   ]
  },
  {
   "cell_type": "markdown",
   "metadata": {},
   "source": [
    "### EDA"
   ]
  },
  {
   "cell_type": "code",
   "execution_count": 10,
   "metadata": {},
   "outputs": [
    {
     "name": "stdout",
     "output_type": "stream",
     "text": [
      "Generating a WordCloud of positive reviews...\n",
      "Generating a WordCloud of negative reviews...\n"
     ]
    },
    {
     "data": {
      "text/plain": [
       "<Figure size 432x288 with 0 Axes>"
      ]
     },
     "metadata": {},
     "output_type": "display_data"
    },
    {
     "data": {
      "image/png": "[encoded data removed]",
      "text/plain": [
       "<Figure size 432x288 with 1 Axes>"
      ]
     },
     "metadata": {
      "needs_background": "light"
     },
     "output_type": "display_data"
    },
    {
     "data": {
      "image/png": "[encoded data removed]",
      "text/plain": [
       "<Figure size 432x288 with 1 Axes>"
      ]
     },
     "metadata": {
      "needs_background": "light"
     },
     "output_type": "display_data"
    }
   ],
   "source": [
    "# Generate wordclouds of positive and negative reviews for exploratory purposes and identification of potential stopwords\n",
    "\n",
    "color_dict = {'positive': 'summer', 'negative':'Reds'}\n",
    "\n",
    "plt.figure()\n",
    "\n",
    "for sent in ['positive', 'negative']:\n",
    "    \n",
    "    print(f'Generating a WordCloud of {sent} reviews...')\n",
    "    \n",
    "    # Join the different processed titles together.\n",
    "    long_string = ','.join(list(df.loc[df['sentiment']==sent]['review_clean'].values))\n",
    "\n",
    "    # Create a WordCloud object\n",
    "    wordcloud = WordCloud(background_color=\"white\", max_words=30, colormap = color_dict[sent])\n",
    "\n",
    "    # Generate a WordCloud \n",
    "    wordcloud.generate(long_string)\n",
    "\n",
    "    # Visualize the word cloud\n",
    "    plt.figure()\n",
    "    plt.imshow(wordcloud, interpolation='bilinear')\n",
    "    plt.axis(\"off\")\n",
    "    plt.imshow(wordcloud, interpolation=\"bilinear\")\n",
    "    plt.axis(\"off\")\n",
    "\n",
    "# br is a commonly appearing word which is rubbish information for the algorithm. Let's remove this word from reviews\n",
    "df['review_clean'] = df['review_clean'].map(lambda x: re.sub('br', '', x))\n"
   ]
  },
  {
   "cell_type": "code",
   "execution_count": 11,
   "metadata": {},
   "outputs": [
    {
     "data": {
      "image/png": "[encoded data removed]",
      "text/plain": [
       "<Figure size 1296x432 with 1 Axes>"
      ]
     },
     "metadata": {
      "needs_background": "light"
     },
     "output_type": "display_data"
    }
   ],
   "source": [
    "# Explore most common words\n",
    "\n",
    "aggregate_counter = Counter()\n",
    "for row_index,row in pd.DataFrame(df['review_clean']).iterrows():\n",
    "    c = Counter(row['review_clean'].split())\n",
    "    aggregate_counter += c\n",
    "\n",
    "common_words = [word[0] for word in aggregate_counter.most_common(50)]\n",
    "common_words_counts = [word[1] for word in aggregate_counter.most_common(50)]\n",
    "\n",
    "barplot(words=common_words, words_counts=common_words_counts, title='Most Frequent Words used in imdb reviews.')"
   ]
  },
  {
   "cell_type": "markdown",
   "metadata": {},
   "source": [
    "### Any other text cleaning and standard processing"
   ]
  },
  {
   "cell_type": "code",
   "execution_count": 10,
   "metadata": {
    "scrolled": true
   },
   "outputs": [
    {
     "data": {
      "text/html": [
       "<div>\n",
       "<style scoped>\n",
       "    .dataframe tbody tr th:only-of-type {\n",
       "        vertical-align: middle;\n",
       "    }\n",
       "\n",
       "    .dataframe tbody tr th {\n",
       "        vertical-align: top;\n",
       "    }\n",
       "\n",
       "    .dataframe thead th {\n",
       "        text-align: right;\n",
       "    }\n",
       "</style>\n",
       "<table border=\"1\" class=\"dataframe\">\n",
       "  <thead>\n",
       "    <tr style=\"text-align: right;\">\n",
       "      <th></th>\n",
       "      <th>review</th>\n",
       "      <th>sentiment</th>\n",
       "      <th>review_clean</th>\n",
       "      <th>review_tokens</th>\n",
       "      <th>review_lemmatized</th>\n",
       "    </tr>\n",
       "  </thead>\n",
       "  <tbody>\n",
       "    <tr>\n",
       "      <td>0</td>\n",
       "      <td>An excellent cast who do their best with an aw...</td>\n",
       "      <td>negative</td>\n",
       "      <td>excellent cast best awful script inept directi...</td>\n",
       "      <td>[excellent, cast, best, awful, script, inept, ...</td>\n",
       "      <td>excellent cast best awful script inept directi...</td>\n",
       "    </tr>\n",
       "    <tr>\n",
       "      <td>1</td>\n",
       "      <td>A dreary and pointless bit of fluff (bloody fl...</td>\n",
       "      <td>negative</td>\n",
       "      <td>dreary pointless bit fluff bloody fluff fluff ...</td>\n",
       "      <td>[dreary, pointless, bit, fluff, bloody, fluff,...</td>\n",
       "      <td>dreary pointless bit fluff bloody fluff fluff ...</td>\n",
       "    </tr>\n",
       "    <tr>\n",
       "      <td>2</td>\n",
       "      <td>If the writer/director is reading this (and I ...</td>\n",
       "      <td>negative</td>\n",
       "      <td>writerdirector reading imagine since work must...</td>\n",
       "      <td>[writerdirector, reading, imagine, since, work...</td>\n",
       "      <td>writerdirector reading imagine since work must...</td>\n",
       "    </tr>\n",
       "    <tr>\n",
       "      <td>3</td>\n",
       "      <td>This is a classic B type movie that you'd rath...</td>\n",
       "      <td>negative</td>\n",
       "      <td>classic b type movie youd rather waste time se...</td>\n",
       "      <td>[classic, b, type, movie, youd, rather, waste,...</td>\n",
       "      <td>classic b type movie youd rather waste time se...</td>\n",
       "    </tr>\n",
       "    <tr>\n",
       "      <td>4</td>\n",
       "      <td>A short review but...&lt;br /&gt;&lt;br /&gt;Avoid at all ...</td>\n",
       "      <td>negative</td>\n",
       "      <td>short review butbr br avoid costs thorough was...</td>\n",
       "      <td>[short, review, butbr, br, avoid, cost, thorou...</td>\n",
       "      <td>short review butbr br avoid cost thorough wast...</td>\n",
       "    </tr>\n",
       "  </tbody>\n",
       "</table>\n",
       "</div>"
      ],
      "text/plain": [
       "                                              review sentiment  \\\n",
       "0  An excellent cast who do their best with an aw...  negative   \n",
       "1  A dreary and pointless bit of fluff (bloody fl...  negative   \n",
       "2  If the writer/director is reading this (and I ...  negative   \n",
       "3  This is a classic B type movie that you'd rath...  negative   \n",
       "4  A short review but...<br /><br />Avoid at all ...  negative   \n",
       "\n",
       "                                        review_clean  \\\n",
       "0  excellent cast best awful script inept directi...   \n",
       "1  dreary pointless bit fluff bloody fluff fluff ...   \n",
       "2  writerdirector reading imagine since work must...   \n",
       "3  classic b type movie youd rather waste time se...   \n",
       "4  short review butbr br avoid costs thorough was...   \n",
       "\n",
       "                                       review_tokens  \\\n",
       "0  [excellent, cast, best, awful, script, inept, ...   \n",
       "1  [dreary, pointless, bit, fluff, bloody, fluff,...   \n",
       "2  [writerdirector, reading, imagine, since, work...   \n",
       "3  [classic, b, type, movie, youd, rather, waste,...   \n",
       "4  [short, review, butbr, br, avoid, cost, thorou...   \n",
       "\n",
       "                                   review_lemmatized  \n",
       "0  excellent cast best awful script inept directi...  \n",
       "1  dreary pointless bit fluff bloody fluff fluff ...  \n",
       "2  writerdirector reading imagine since work must...  \n",
       "3  classic b type movie youd rather waste time se...  \n",
       "4  short review butbr br avoid cost thorough wast...  "
      ]
     },
     "execution_count": 10,
     "metadata": {},
     "output_type": "execute_result"
    }
   ],
   "source": [
    "# Remove empty string reviews\n",
    "df = df.loc[df['review_clean']!='', :].reset_index(drop=True)\n",
    "\n",
    "# Replace double spaces with single spaces\n",
    "df['review_clean'] = df['review_clean'].map(lambda x:re.sub(' {2,}', ' ', x))\n",
    "\n",
    "# Apply Lemmatization\n",
    "df['review_tokens'] = df['review_clean'].map(lambda x:x.split())\n",
    "lemmatizer = WordNetLemmatizer() \n",
    "df['review_tokens'] = df['review_tokens'].apply(lambda lst:[lemmatizer.lemmatize(word) for word in lst])\n",
    "df['review_lemmatized'] = df['review_tokens'].apply(lambda x:' '.join(x))\n",
    "\n",
    "df.head()"
   ]
  },
  {
   "cell_type": "markdown",
   "metadata": {},
   "source": [
    "### Explore topics mentioned in the reviews"
   ]
  },
  {
   "cell_type": "code",
   "execution_count": 13,
   "metadata": {},
   "outputs": [
    {
     "name": "stdout",
     "output_type": "stream",
     "text": [
      "Topics found via LDA:\n",
      "\n",
      "Topic #0:\n",
      "horror one film like from movie scene gore good well monster get time house first\n",
      "\n",
      "Topic #1:\n",
      "one from murder best harry ray episode wife columbo kill guy hitchcock train get andrew\n",
      "\n",
      "Topic #2:\n",
      "one film from like scene life time movie man thing see love also woman work\n",
      "\n",
      "Topic #3:\n",
      "movie film love story scene one from great character good time like life also well\n",
      "\n",
      "Topic #4:\n",
      "movie film one like time see really good great think dont watch seen people would\n",
      "\n",
      "Topic #5:\n",
      "film year time first one movie disney batman best would music from also like musical\n",
      "\n",
      "Topic #6:\n",
      "movie good bad like one action great make effect story guy plot well really from\n",
      "\n",
      "Topic #7:\n",
      "game bond play from musical film sinatra one star number james get never also best\n",
      "\n",
      "Topic #8:\n",
      "from film one life people like character man movie story world make way get even\n",
      "\n",
      "Topic #9:\n",
      "from comedy play get one film two man holmes character arthur good best year role\n",
      "\n",
      "Topic #10:\n",
      "film movie good one character great well from like role story performance make actor also\n",
      "\n",
      "Topic #11:\n",
      "western stewart tarzan john stanwyck town young ford horse play jimmy lincoln jane james get\n",
      "\n",
      "Topic #12:\n",
      "show episode series season tv from one like get funny great character comedy would cartoon\n",
      "\n",
      "Topic #13:\n",
      "film from one life time family story music would year young also well love even\n",
      "\n",
      "Topic #14:\n",
      "film story man one from custer get new powell well world grant house life played\n",
      "\n",
      "Topic #15:\n",
      "match one good film from two time get movie man best uce big really title\n",
      "\n",
      "Topic #16:\n",
      "film one from character story scene life time also make well work director much way\n",
      "\n",
      "Topic #17:\n",
      "war soldier german documentary from series world one year battle army men time history episode\n",
      "\n",
      "Topic #18:\n",
      "movie like one get girl from go good life love man find also woman time\n",
      "\n",
      "Topic #19:\n",
      "son father film one radio kelly wagon family story performance streep best love michael man\n"
     ]
    }
   ],
   "source": [
    "# Prepare the data for topic modelling\n",
    "count_vectorizer = CountVectorizer()\n",
    "count_data = count_vectorizer.fit_transform(df['review_lemmatized'])\n",
    "\n",
    "# Tweak the two parameters below\n",
    "number_topics = 20\n",
    "number_words = 15\n",
    "\n",
    "# Create and fit the LDA model\n",
    "lda = LDA(n_components=number_topics, n_jobs=-1)\n",
    "lda.fit(count_data)\n",
    "\n",
    "# Print the topics found by the LDA model\n",
    "print(\"Topics found via LDA:\")\n",
    "print_topics(lda, count_vectorizer, number_words)"
   ]
  },
  {
   "cell_type": "markdown",
   "metadata": {},
   "source": [
    "## Build a classifier\n",
    "\n",
    "- Target variable is 'sentiment', build a classifier and assess its performance"
   ]
  },
  {
   "cell_type": "markdown",
   "metadata": {},
   "source": [
    "### 1) First classifier to be tested is Random Forest"
   ]
  },
  {
   "cell_type": "code",
   "execution_count": 14,
   "metadata": {},
   "outputs": [],
   "source": [
    "# Transform target variable to dummy variable\n",
    "df['sentiment'] = [1 if x == 'positive' else 0 for x in df['sentiment']]"
   ]
  },
  {
   "cell_type": "code",
   "execution_count": 15,
   "metadata": {},
   "outputs": [],
   "source": [
    "# Prepare text corpus for training\n",
    "corpus=[]\n",
    "\n",
    "for rev in df['review_lemmatized']:\n",
    "    corpus.append(rev)\n",
    "    "
   ]
  },
  {
   "cell_type": "code",
   "execution_count": 16,
   "metadata": {},
   "outputs": [],
   "source": [
    "# Transform text data into a numeric format (TF IDF matrix)\n",
    "vectorizer = TfidfVectorizer(max_features=2500, min_df=7, max_df=0.8)\n",
    "processed_features = vectorizer.fit_transform(corpus).toarray()"
   ]
  },
  {
   "cell_type": "code",
   "execution_count": 17,
   "metadata": {},
   "outputs": [],
   "source": [
    "# Split data onto train and test sets\n",
    "labels = df['sentiment'].values\n",
    "X_train, X_test, y_train, y_test = train_test_split(processed_features, labels, test_size=0.2, random_state=0)"
   ]
  },
  {
   "cell_type": "code",
   "execution_count": 18,
   "metadata": {},
   "outputs": [
    {
     "name": "stdout",
     "output_type": "stream",
     "text": [
      "[0.97561453 0.97466001 0.97280376 0.97433386]\n",
      "Average F1 Score of Random Forest classifier equals: 0.97\n"
     ]
    }
   ],
   "source": [
    "# Train and cross validate the estimator\n",
    "\n",
    "clf = RandomForestClassifier(n_estimators=64, random_state=0)\n",
    "\n",
    "scores = cross_val_score(clf, X_train, y_train, cv=4, scoring='f1')\n",
    "\n",
    "print(scores)\n",
    "\n",
    "rf_score = scores.mean()\n",
    "\n",
    "print(f'Average F1 Score of Random Forest classifier equals: {np.round(rf_score,2)}')"
   ]
  },
  {
   "cell_type": "markdown",
   "metadata": {},
   "source": [
    "### 2) Second classifier to be tested is XGBoost"
   ]
  },
  {
   "cell_type": "code",
   "execution_count": 20,
   "metadata": {},
   "outputs": [
    {
     "name": "stdout",
     "output_type": "stream",
     "text": [
      "[0.97873182 0.97961203 0.97844998 0.97813829]\n",
      "Average F1 Score of XGBoost classifier equals: 0.98\n"
     ]
    }
   ],
   "source": [
    "# Train and cross validate the estimator\n",
    "\n",
    "from sklearn.model_selection import cross_val_score\n",
    "\n",
    "clf = xgb.XGBClassifier(objective=\"binary:logistic\", random_state=0)\n",
    "scores = cross_val_score(clf, X_train, y_train, cv=4, scoring='f1')\n",
    "\n",
    "print(scores)\n",
    "\n",
    "xgb_score = scores.mean()\n",
    "\n",
    "print(f'Average F1 Score of XGBoost classifier equals: {np.round(xgb_score,2)}')"
   ]
  },
  {
   "cell_type": "markdown",
   "metadata": {},
   "source": [
    "##### Since we pay attention to the accuracy of predictions of both, positive and negative labels, F1 Score is selected as a metric decisive of which model should be chosen. This being said, XGBoost slightly outperformed Random Forest classifier in analyzed use-case with cross-validated F1 Score of 0.98."
   ]
  },
  {
   "cell_type": "markdown",
   "metadata": {},
   "source": [
    "## Anomaly detection on \"review\" column"
   ]
  },
  {
   "cell_type": "raw",
   "metadata": {},
   "source": [
    "# Due to no previous experience in Anomaly Detection work, I was inspired by the below blog, where the author \n",
    "# runs outlier detection on movie plots. Another easy & fast solution would be to indicate the reviews not containing most common words in the content\n",
    "#Source: https://medium.com/datadriveninvestor/unsupervised-outlier-detection-in-text-corpus-using-deep-learning-41d4284a04c8"
   ]
  },
  {
   "cell_type": "code",
   "execution_count": 22,
   "metadata": {},
   "outputs": [
    {
     "data": {
      "text/html": [
       "<div>\n",
       "<style scoped>\n",
       "    .dataframe tbody tr th:only-of-type {\n",
       "        vertical-align: middle;\n",
       "    }\n",
       "\n",
       "    .dataframe tbody tr th {\n",
       "        vertical-align: top;\n",
       "    }\n",
       "\n",
       "    .dataframe thead th {\n",
       "        text-align: right;\n",
       "    }\n",
       "</style>\n",
       "<table border=\"1\" class=\"dataframe\">\n",
       "  <thead>\n",
       "    <tr style=\"text-align: right;\">\n",
       "      <th></th>\n",
       "      <th>review</th>\n",
       "      <th>sentiment</th>\n",
       "      <th>review_clean</th>\n",
       "      <th>review_tokens</th>\n",
       "      <th>review_lemmatized</th>\n",
       "    </tr>\n",
       "  </thead>\n",
       "  <tbody>\n",
       "    <tr>\n",
       "      <td>0</td>\n",
       "      <td>An excellent cast who do their best with an aw...</td>\n",
       "      <td>0</td>\n",
       "      <td>excellent cast best awful script inept directi...</td>\n",
       "      <td>[excellent, cast, best, awful, script, inept, ...</td>\n",
       "      <td>excellent cast best awful script inept directi...</td>\n",
       "    </tr>\n",
       "    <tr>\n",
       "      <td>1</td>\n",
       "      <td>A dreary and pointless bit of fluff (bloody fl...</td>\n",
       "      <td>0</td>\n",
       "      <td>dreary pointless bit fluff bloody fluff fluff ...</td>\n",
       "      <td>[dreary, pointless, bit, fluff, bloody, fluff,...</td>\n",
       "      <td>dreary pointless bit fluff bloody fluff fluff ...</td>\n",
       "    </tr>\n",
       "    <tr>\n",
       "      <td>2</td>\n",
       "      <td>If the writer/director is reading this (and I ...</td>\n",
       "      <td>0</td>\n",
       "      <td>writerdirector reading imagine since work must...</td>\n",
       "      <td>[writerdirector, reading, imagine, since, work...</td>\n",
       "      <td>writerdirector reading imagine since work must...</td>\n",
       "    </tr>\n",
       "    <tr>\n",
       "      <td>3</td>\n",
       "      <td>This is a classic B type movie that you'd rath...</td>\n",
       "      <td>0</td>\n",
       "      <td>classic b type movie youd rather waste time se...</td>\n",
       "      <td>[classic, b, type, movie, youd, rather, waste,...</td>\n",
       "      <td>classic b type movie youd rather waste time se...</td>\n",
       "    </tr>\n",
       "    <tr>\n",
       "      <td>4</td>\n",
       "      <td>A short review but...&lt;br /&gt;&lt;br /&gt;Avoid at all ...</td>\n",
       "      <td>0</td>\n",
       "      <td>short review but avoid costs thorough waste mi...</td>\n",
       "      <td>[short, review, but, avoid, cost, thorough, wa...</td>\n",
       "      <td>short review but avoid cost thorough waste min...</td>\n",
       "    </tr>\n",
       "  </tbody>\n",
       "</table>\n",
       "</div>"
      ],
      "text/plain": [
       "                                              review  sentiment  \\\n",
       "0  An excellent cast who do their best with an aw...          0   \n",
       "1  A dreary and pointless bit of fluff (bloody fl...          0   \n",
       "2  If the writer/director is reading this (and I ...          0   \n",
       "3  This is a classic B type movie that you'd rath...          0   \n",
       "4  A short review but...<br /><br />Avoid at all ...          0   \n",
       "\n",
       "                                        review_clean  \\\n",
       "0  excellent cast best awful script inept directi...   \n",
       "1  dreary pointless bit fluff bloody fluff fluff ...   \n",
       "2  writerdirector reading imagine since work must...   \n",
       "3  classic b type movie youd rather waste time se...   \n",
       "4  short review but avoid costs thorough waste mi...   \n",
       "\n",
       "                                       review_tokens  \\\n",
       "0  [excellent, cast, best, awful, script, inept, ...   \n",
       "1  [dreary, pointless, bit, fluff, bloody, fluff,...   \n",
       "2  [writerdirector, reading, imagine, since, work...   \n",
       "3  [classic, b, type, movie, youd, rather, waste,...   \n",
       "4  [short, review, but, avoid, cost, thorough, wa...   \n",
       "\n",
       "                                   review_lemmatized  \n",
       "0  excellent cast best awful script inept directi...  \n",
       "1  dreary pointless bit fluff bloody fluff fluff ...  \n",
       "2  writerdirector reading imagine since work must...  \n",
       "3  classic b type movie youd rather waste time se...  \n",
       "4  short review but avoid cost thorough waste min...  "
      ]
     },
     "execution_count": 22,
     "metadata": {},
     "output_type": "execute_result"
    }
   ],
   "source": [
    "df.head()"
   ]
  },
  {
   "cell_type": "code",
   "execution_count": 23,
   "metadata": {},
   "outputs": [],
   "source": [
    "# For anomaly detection of review content we will use already preprocessed in previous task data (\"review_lemmatized\" column)"
   ]
  },
  {
   "cell_type": "code",
   "execution_count": 11,
   "metadata": {},
   "outputs": [],
   "source": [
    "class Doc2VecTransformer(BaseEstimator):\n",
    "\n",
    "    def __init__(self, vector_size=100, learning_rate=0.02, epochs=20):\n",
    "        self.learning_rate = learning_rate\n",
    "        self.epochs = epochs\n",
    "        self._model = None\n",
    "        self.vector_size = vector_size\n",
    "        self.workers = multiprocessing.cpu_count() - 1\n",
    "\n",
    "    def fit(self, df_x, df_y=None):\n",
    "        tagged_x = [TaggedDocument(str(row['review_clean']).split(), [index]) for index, row in df_x.iterrows()]\n",
    "        model = Doc2Vec(documents=tagged_x, vector_size=self.vector_size, workers=self.workers)\n",
    "\n",
    "        for epoch in range(self.epochs):\n",
    "            model.train(skl_utils.shuffle([x for x in tqdm('review_clean')]), total_examples=len(tagged_x), epochs=1)\n",
    "            model.alpha -= self.learning_rate\n",
    "            model.min_alpha = model.alpha\n",
    "\n",
    "        self._model = model\n",
    "        return self\n",
    "\n",
    "    def transform(self, df_x):\n",
    "        return np.asmatrix(np.array([self._model.infer_vector(str(row['review_clean']).split())\n",
    "                                     for index, row in df_x.iterrows()]))"
   ]
  },
  {
   "cell_type": "code",
   "execution_count": null,
   "metadata": {},
   "outputs": [
    {
     "name": "stderr",
     "output_type": "stream",
     "text": [
      "100%|██████████████████████████████████████████████████████████████████████████████████████████| 12/12 [00:00<?, ?it/s]\n",
      "Exception in thread Thread-54:\n",
      "Traceback (most recent call last):\n",
      "  File \"C:\\Users\\dleszk01\\AppData\\Local\\Continuum\\anaconda3\\lib\\threading.py\", line 926, in _bootstrap_inner\n",
      "    self.run()\n",
      "  File \"C:\\Users\\dleszk01\\AppData\\Local\\Continuum\\anaconda3\\lib\\threading.py\", line 870, in run\n",
      "    self._target(*self._args, **self._kwargs)\n",
      "  File \"C:\\Users\\dleszk01\\AppData\\Local\\Continuum\\anaconda3\\lib\\site-packages\\gensim\\models\\base_any2vec.py\", line 250, in _job_producer\n",
      "    data_length = self._raw_word_count([data])\n",
      "  File \"C:\\Users\\dleszk01\\AppData\\Local\\Continuum\\anaconda3\\lib\\site-packages\\gensim\\models\\doc2vec.py\", line 617, in _raw_word_count\n",
      "    return sum(len(sentence.words) for sentence in job)\n",
      "  File \"C:\\Users\\dleszk01\\AppData\\Local\\Continuum\\anaconda3\\lib\\site-packages\\gensim\\models\\doc2vec.py\", line 617, in <genexpr>\n",
      "    return sum(len(sentence.words) for sentence in job)\n",
      "AttributeError: 'str' object has no attribute 'words'\n",
      "\n"
     ]
    }
   ],
   "source": [
    "# Transform text corpus into document vectors\n",
    "doc2vec_tr = Doc2VecTransformer(vector_size=100)\n",
    "doc2vec_tr.fit(pd.DataFrame(df['review_clean']))\n",
    "doc2vec_vectors = doc2vec_tr.transform(pd.DataFrame(df['review_clean']))"
   ]
  },
  {
   "cell_type": "code",
   "execution_count": null,
   "metadata": {},
   "outputs": [],
   "source": [
    "print(doc2vec_vectors)"
   ]
  },
  {
   "cell_type": "code",
   "execution_count": null,
   "metadata": {},
   "outputs": [],
   "source": [
    "#Train the MLPRegressor and make predictions\n",
    "auto_encoder = MLPRegressor(hidden_layer_sizes=(\n",
    "                                                 600,\n",
    "                                                 150, \n",
    "                                                 600,\n",
    "                                               ))\n",
    "auto_encoder.fit(doc2vec_vectors, doc2vec_vectors)\n",
    "predicted_vectors = auto_encoder.predict(doc2vec_vectors)"
   ]
  },
  {
   "cell_type": "code",
   "execution_count": null,
   "metadata": {},
   "outputs": [],
   "source": [
    "print(predicted_vectors)"
   ]
  },
  {
   "cell_type": "code",
   "execution_count": null,
   "metadata": {},
   "outputs": [],
   "source": [
    "# Print accuracy score of trained deep regressor\n",
    "auto_encoder.score(predicted_vectors, doc2vec_vectors)"
   ]
  },
  {
   "cell_type": "code",
   "execution_count": null,
   "metadata": {},
   "outputs": [],
   "source": [
    "# Plot learning curve of trained deep regressor\n",
    "pd.DataFrame(auto_encoder.loss_curve_).plot()"
   ]
  },
  {
   "cell_type": "code",
   "execution_count": null,
   "metadata": {},
   "outputs": [],
   "source": [
    "from scipy.spatial.distance import cosine\n",
    "\n",
    "def key_consine_similarity(tupple):\n",
    "    return tupple[1]\n",
    "\n",
    "def get_computed_similarities(vectors, predicted_vectors, reverse=False):\n",
    "    data_size = len(pd.DataFrame(df['review_clean']))\n",
    "    cosine_similarities = []\n",
    "    for i in range(data_size):\n",
    "        cosine_sim_val = (1 - cosine(vectors[i], predicted_vectors[i]))\n",
    "        cosine_similarities.append((i, cosine_sim_val))\n",
    "\n",
    "    return sorted(cosine_similarities, key=key_consine_similarity, reverse=reverse)\n",
    "\n",
    "def display_top_n(sorted_cosine_similarities, n=5):\n",
    "    for i in range(n):\n",
    "        index, consine_sim_val = sorted_cosine_similarities[i]\n",
    "        print('Review Index: ', pd.DataFrame(df['review_clean']).iloc[index, 0])  \n",
    "        print('Cosine Sim Val :', consine_sim_val)\n",
    "        print('---------------------------------')"
   ]
  },
  {
   "cell_type": "code",
   "execution_count": null,
   "metadata": {},
   "outputs": [],
   "source": [
    "# Validate the results\n",
    "print('Top 5 unique reviews')\n",
    "sorted_cosine_similarities = get_computed_similarities(vectors=doc2vec_vectors, predicted_vectors=predicted_vectors)\n",
    "display_top_n(sorted_cosine_similarities=sorted_cosine_similarities)"
   ]
  },
  {
   "cell_type": "code",
   "execution_count": null,
   "metadata": {},
   "outputs": [],
   "source": [
    "# Check the intersection between most unique move reviews and the most common words extracted from all of the reviews.\n",
    "# Empty/ small set is an expected result, as it means that most unique (i.e. outlier) reviews do not conain frequent words\n",
    "\n",
    "most_unique_review_index, cosine_sim_val = sorted_cosine_similarities[0]\n",
    "most_unique_review_plot = pd.DataFrame(df['review_clean']).iloc[most_unique_review_index, 1]\n",
    "most_unique_review_words_counter = Counter(preprocess_string(most_unique_review_plot))\n",
    "intersected_common_word_counter = common_words & most_unique_review_words_counter\n",
    "intersected_common_words = [word[0] for word in intersected_common_word_counter.items()]\n",
    "intersected_common_word_counts = [word[1] for word in intersected_common_word_counter.items()]\n",
    "intersected_common_word_counter"
   ]
  }
 ],
 "metadata": {
  "kernelspec": {
   "display_name": "Python 3",
   "language": "python",
   "name": "python3"
  },
  "language_info": {
   "codemirror_mode": {
    "name": "ipython",
    "version": 3
   },
   "file_extension": ".py",
   "mimetype": "text/x-python",
   "name": "python",
   "nbconvert_exporter": "python",
   "pygments_lexer": "ipython3",
   "version": "3.7.4"
  }
 },
 "nbformat": 4,
 "nbformat_minor": 2
}
