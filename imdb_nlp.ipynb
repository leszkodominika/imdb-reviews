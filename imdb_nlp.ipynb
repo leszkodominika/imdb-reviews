{
 "cells": [
  {
   "cell_type": "markdown",
   "metadata": {},
   "source": [
    "## Set up the environment"
   ]
  },
  {
   "cell_type": "code",
   "execution_count": 1,
   "metadata": {},
   "outputs": [
    {
     "name": "stdout",
     "output_type": "stream",
     "text": [
      "C:\\Users\\dleszk01\n"
     ]
    }
   ],
   "source": [
    "import pandas as pd\n",
    "import numpy as np\n",
    "import os\n",
    "import re\n",
    "from nltk.corpus import stopwords\n",
    "from wordcloud import WordCloud\n",
    "from collections import Counter\n",
    "import seaborn as sns\n",
    "from nltk.stem.wordnet import WordNetLemmatizer\n",
    "from sklearn.feature_extraction.text import CountVectorizer\n",
    "from sklearn.decomposition import LatentDirichletAllocation as LDA\n",
    "import matplotlib.pyplot as plt\n",
    "from sklearn.feature_extraction.text import TfidfVectorizer\n",
    "from sklearn.model_selection import train_test_split\n",
    "from sklearn.ensemble import RandomForestClassifier\n",
    "import xgboost as xgb\n",
    "from sklearn.model_selection import cross_val_score\n",
    "from gensim.models.doc2vec import TaggedDocument, Doc2Vec\n",
    "from gensim.parsing.preprocessing import preprocess_string\n",
    "from sklearn.base import BaseEstimator\n",
    "from sklearn import utils as skl_utils\n",
    "from tqdm import tqdm\n",
    "import multiprocessing\n",
    "from sklearn.neural_network import MLPRegressor\n",
    "\n",
    "sns.set_style('darkgrid')\n",
    "cwd = os.getcwd()\n",
    "print(cwd)"
   ]
  },
  {
   "cell_type": "code",
   "execution_count": 2,
   "metadata": {},
   "outputs": [],
   "source": [
    "## helper functions\n",
    "\n",
    "def barplot(words, words_counts, title):\n",
    "    fig = plt.figure(figsize=(18,6))\n",
    "    bar_plot = sns.barplot(x=words, y=words_counts)\n",
    "    for item in bar_plot.get_xticklabels():\n",
    "        item.set_rotation(90)\n",
    "    plt.title(title)\n",
    "    plt.show()\n",
    "\n",
    "def print_topics(model, count_vectorizer, n_top_words):\n",
    "    words = count_vectorizer.get_feature_names()\n",
    "    for topic_idx, topic in enumerate(model.components_):\n",
    "        print(\"\\nTopic #%d:\" % topic_idx)\n",
    "        print(\" \".join([words[i]\n",
    "                        for i in topic.argsort()[:-n_top_words - 1:-1]]))"
   ]
  },
  {
   "cell_type": "markdown",
   "metadata": {},
   "source": [
    "## Load the data"
   ]
  },
  {
   "cell_type": "code",
   "execution_count": 3,
   "metadata": {},
   "outputs": [
    {
     "data": {
      "text/html": [
       "<div>\n",
       "<style scoped>\n",
       "    .dataframe tbody tr th:only-of-type {\n",
       "        vertical-align: middle;\n",
       "    }\n",
       "\n",
       "    .dataframe tbody tr th {\n",
       "        vertical-align: top;\n",
       "    }\n",
       "\n",
       "    .dataframe thead th {\n",
       "        text-align: right;\n",
       "    }\n",
       "</style>\n",
       "<table border=\"1\" class=\"dataframe\">\n",
       "  <thead>\n",
       "    <tr style=\"text-align: right;\">\n",
       "      <th></th>\n",
       "      <th>review</th>\n",
       "      <th>sentiment</th>\n",
       "    </tr>\n",
       "  </thead>\n",
       "  <tbody>\n",
       "    <tr>\n",
       "      <td>0</td>\n",
       "      <td>An excellent cast who do their best with an aw...</td>\n",
       "      <td>negative</td>\n",
       "    </tr>\n",
       "    <tr>\n",
       "      <td>1</td>\n",
       "      <td>A dreary and pointless bit of fluff (bloody fl...</td>\n",
       "      <td>negative</td>\n",
       "    </tr>\n",
       "    <tr>\n",
       "      <td>2</td>\n",
       "      <td>If the writer/director is reading this (and I ...</td>\n",
       "      <td>negative</td>\n",
       "    </tr>\n",
       "    <tr>\n",
       "      <td>3</td>\n",
       "      <td>This is a classic B type movie that you'd rath...</td>\n",
       "      <td>negative</td>\n",
       "    </tr>\n",
       "    <tr>\n",
       "      <td>4</td>\n",
       "      <td>A short review but...&lt;br /&gt;&lt;br /&gt;Avoid at all ...</td>\n",
       "      <td>negative</td>\n",
       "    </tr>\n",
       "  </tbody>\n",
       "</table>\n",
       "</div>"
      ],
      "text/plain": [
       "                                              review sentiment\n",
       "0  An excellent cast who do their best with an aw...  negative\n",
       "1  A dreary and pointless bit of fluff (bloody fl...  negative\n",
       "2  If the writer/director is reading this (and I ...  negative\n",
       "3  This is a classic B type movie that you'd rath...  negative\n",
       "4  A short review but...<br /><br />Avoid at all ...  negative"
      ]
     },
     "execution_count": 3,
     "metadata": {},
     "output_type": "execute_result"
    }
   ],
   "source": [
    "df=pd.read_csv(r'C:\\Users\\dleszk01\\prywatne\\IMDB Dataset.csv\\IMDB Dataset.csv')\n",
    "df.head()"
   ]
  },
  {
   "cell_type": "markdown",
   "metadata": {},
   "source": [
    "## Preprocessing\n",
    "\n",
    "- Remove non-digit and non-letter parts\n",
    "\n",
    "- Remove stop words (but keep the word 'from')\n",
    "\n",
    "- Remove standalone numbers (remove '100' from '100 pieces')\n",
    "\n",
    "- Any other text cleaning and standard processing"
   ]
  },
  {
   "cell_type": "code",
   "execution_count": 4,
   "metadata": {},
   "outputs": [
    {
     "data": {
      "text/plain": [
       "review       0\n",
       "sentiment    0\n",
       "dtype: int64"
      ]
     },
     "execution_count": 4,
     "metadata": {},
     "output_type": "execute_result"
    }
   ],
   "source": [
    "# Check null values\n",
    "df.isna().sum()"
   ]
  },
  {
   "cell_type": "code",
   "execution_count": 5,
   "metadata": {},
   "outputs": [
    {
     "name": "stdout",
     "output_type": "stream",
     "text": [
      "<class 'pandas.core.frame.DataFrame'>\n",
      "RangeIndex: 27502 entries, 0 to 27501\n",
      "Data columns (total 2 columns):\n",
      "review       27502 non-null object\n",
      "sentiment    27502 non-null object\n",
      "dtypes: object(2)\n",
      "memory usage: 429.8+ KB\n"
     ]
    }
   ],
   "source": [
    "# Check data types\n",
    "df.info()"
   ]
  },
  {
   "cell_type": "code",
   "execution_count": 6,
   "metadata": {},
   "outputs": [],
   "source": [
    "# Transform reviews to lowercase\n",
    "df['review_clean'] = df['review'].astype(str).copy()\n",
    "df['review_clean'] = df['review_clean'].map(lambda x: x.lower())"
   ]
  },
  {
   "cell_type": "markdown",
   "metadata": {},
   "source": [
    "### Remove non-digit and non-letter parts"
   ]
  },
  {
   "cell_type": "code",
   "execution_count": 7,
   "metadata": {},
   "outputs": [
    {
     "data": {
      "text/html": [
       "<div>\n",
       "<style scoped>\n",
       "    .dataframe tbody tr th:only-of-type {\n",
       "        vertical-align: middle;\n",
       "    }\n",
       "\n",
       "    .dataframe tbody tr th {\n",
       "        vertical-align: top;\n",
       "    }\n",
       "\n",
       "    .dataframe thead th {\n",
       "        text-align: right;\n",
       "    }\n",
       "</style>\n",
       "<table border=\"1\" class=\"dataframe\">\n",
       "  <thead>\n",
       "    <tr style=\"text-align: right;\">\n",
       "      <th></th>\n",
       "      <th>review</th>\n",
       "      <th>sentiment</th>\n",
       "      <th>review_clean</th>\n",
       "    </tr>\n",
       "  </thead>\n",
       "  <tbody>\n",
       "    <tr>\n",
       "      <td>0</td>\n",
       "      <td>An excellent cast who do their best with an aw...</td>\n",
       "      <td>negative</td>\n",
       "      <td>an excellent cast who do their best with an aw...</td>\n",
       "    </tr>\n",
       "    <tr>\n",
       "      <td>1</td>\n",
       "      <td>A dreary and pointless bit of fluff (bloody fl...</td>\n",
       "      <td>negative</td>\n",
       "      <td>a dreary and pointless bit of fluff bloody flu...</td>\n",
       "    </tr>\n",
       "    <tr>\n",
       "      <td>2</td>\n",
       "      <td>If the writer/director is reading this (and I ...</td>\n",
       "      <td>negative</td>\n",
       "      <td>if the writerdirector is reading this and i im...</td>\n",
       "    </tr>\n",
       "    <tr>\n",
       "      <td>3</td>\n",
       "      <td>This is a classic B type movie that you'd rath...</td>\n",
       "      <td>negative</td>\n",
       "      <td>this is a classic b type movie that youd rathe...</td>\n",
       "    </tr>\n",
       "    <tr>\n",
       "      <td>4</td>\n",
       "      <td>A short review but...&lt;br /&gt;&lt;br /&gt;Avoid at all ...</td>\n",
       "      <td>negative</td>\n",
       "      <td>a short review butbr br avoid at all costs a t...</td>\n",
       "    </tr>\n",
       "  </tbody>\n",
       "</table>\n",
       "</div>"
      ],
      "text/plain": [
       "                                              review sentiment  \\\n",
       "0  An excellent cast who do their best with an aw...  negative   \n",
       "1  A dreary and pointless bit of fluff (bloody fl...  negative   \n",
       "2  If the writer/director is reading this (and I ...  negative   \n",
       "3  This is a classic B type movie that you'd rath...  negative   \n",
       "4  A short review but...<br /><br />Avoid at all ...  negative   \n",
       "\n",
       "                                        review_clean  \n",
       "0  an excellent cast who do their best with an aw...  \n",
       "1  a dreary and pointless bit of fluff bloody flu...  \n",
       "2  if the writerdirector is reading this and i im...  \n",
       "3  this is a classic b type movie that youd rathe...  \n",
       "4  a short review butbr br avoid at all costs a t...  "
      ]
     },
     "execution_count": 7,
     "metadata": {},
     "output_type": "execute_result"
    }
   ],
   "source": [
    "df['review_clean'] = df['review_clean'].map(lambda x: re.sub('[^a-zA-Z0-9|\\s]+', '', x))\n",
    "\n",
    "df.head()"
   ]
  },
  {
   "cell_type": "markdown",
   "metadata": {},
   "source": [
    "### Remove standalone numbers (remove '100' from '100 pieces')"
   ]
  },
  {
   "cell_type": "code",
   "execution_count": 8,
   "metadata": {},
   "outputs": [
    {
     "data": {
      "text/html": [
       "<div>\n",
       "<style scoped>\n",
       "    .dataframe tbody tr th:only-of-type {\n",
       "        vertical-align: middle;\n",
       "    }\n",
       "\n",
       "    .dataframe tbody tr th {\n",
       "        vertical-align: top;\n",
       "    }\n",
       "\n",
       "    .dataframe thead th {\n",
       "        text-align: right;\n",
       "    }\n",
       "</style>\n",
       "<table border=\"1\" class=\"dataframe\">\n",
       "  <thead>\n",
       "    <tr style=\"text-align: right;\">\n",
       "      <th></th>\n",
       "      <th>review</th>\n",
       "      <th>sentiment</th>\n",
       "      <th>review_clean</th>\n",
       "    </tr>\n",
       "  </thead>\n",
       "  <tbody>\n",
       "    <tr>\n",
       "      <td>0</td>\n",
       "      <td>An excellent cast who do their best with an aw...</td>\n",
       "      <td>negative</td>\n",
       "      <td>an excellent cast who do their best with an aw...</td>\n",
       "    </tr>\n",
       "    <tr>\n",
       "      <td>1</td>\n",
       "      <td>A dreary and pointless bit of fluff (bloody fl...</td>\n",
       "      <td>negative</td>\n",
       "      <td>a dreary and pointless bit of fluff bloody flu...</td>\n",
       "    </tr>\n",
       "    <tr>\n",
       "      <td>2</td>\n",
       "      <td>If the writer/director is reading this (and I ...</td>\n",
       "      <td>negative</td>\n",
       "      <td>if the writerdirector is reading this and i im...</td>\n",
       "    </tr>\n",
       "    <tr>\n",
       "      <td>3</td>\n",
       "      <td>This is a classic B type movie that you'd rath...</td>\n",
       "      <td>negative</td>\n",
       "      <td>this is a classic b type movie that youd rathe...</td>\n",
       "    </tr>\n",
       "    <tr>\n",
       "      <td>4</td>\n",
       "      <td>A short review but...&lt;br /&gt;&lt;br /&gt;Avoid at all ...</td>\n",
       "      <td>negative</td>\n",
       "      <td>a short review butbr br avoid at all costs a t...</td>\n",
       "    </tr>\n",
       "  </tbody>\n",
       "</table>\n",
       "</div>"
      ],
      "text/plain": [
       "                                              review sentiment  \\\n",
       "0  An excellent cast who do their best with an aw...  negative   \n",
       "1  A dreary and pointless bit of fluff (bloody fl...  negative   \n",
       "2  If the writer/director is reading this (and I ...  negative   \n",
       "3  This is a classic B type movie that you'd rath...  negative   \n",
       "4  A short review but...<br /><br />Avoid at all ...  negative   \n",
       "\n",
       "                                        review_clean  \n",
       "0  an excellent cast who do their best with an aw...  \n",
       "1  a dreary and pointless bit of fluff bloody flu...  \n",
       "2  if the writerdirector is reading this and i im...  \n",
       "3  this is a classic b type movie that youd rathe...  \n",
       "4  a short review butbr br avoid at all costs a t...  "
      ]
     },
     "execution_count": 8,
     "metadata": {},
     "output_type": "execute_result"
    }
   ],
   "source": [
    "df['review_clean'] = df['review_clean'].map(lambda x:re.sub(r'\\s*\\d+\\s*', ' ', x))\n",
    "\n",
    "df.head()"
   ]
  },
  {
   "cell_type": "markdown",
   "metadata": {},
   "source": [
    "### Remove stop words (but keep the word 'from')"
   ]
  },
  {
   "cell_type": "code",
   "execution_count": 9,
   "metadata": {},
   "outputs": [
    {
     "name": "stdout",
     "output_type": "stream",
     "text": [
      "False\n"
     ]
    },
    {
     "data": {
      "text/html": [
       "<div>\n",
       "<style scoped>\n",
       "    .dataframe tbody tr th:only-of-type {\n",
       "        vertical-align: middle;\n",
       "    }\n",
       "\n",
       "    .dataframe tbody tr th {\n",
       "        vertical-align: top;\n",
       "    }\n",
       "\n",
       "    .dataframe thead th {\n",
       "        text-align: right;\n",
       "    }\n",
       "</style>\n",
       "<table border=\"1\" class=\"dataframe\">\n",
       "  <thead>\n",
       "    <tr style=\"text-align: right;\">\n",
       "      <th></th>\n",
       "      <th>review</th>\n",
       "      <th>sentiment</th>\n",
       "      <th>review_clean</th>\n",
       "    </tr>\n",
       "  </thead>\n",
       "  <tbody>\n",
       "    <tr>\n",
       "      <td>0</td>\n",
       "      <td>An excellent cast who do their best with an aw...</td>\n",
       "      <td>negative</td>\n",
       "      <td>excellent cast best awful script inept directi...</td>\n",
       "    </tr>\n",
       "    <tr>\n",
       "      <td>1</td>\n",
       "      <td>A dreary and pointless bit of fluff (bloody fl...</td>\n",
       "      <td>negative</td>\n",
       "      <td>dreary pointless bit fluff bloody fluff fluff ...</td>\n",
       "    </tr>\n",
       "    <tr>\n",
       "      <td>2</td>\n",
       "      <td>If the writer/director is reading this (and I ...</td>\n",
       "      <td>negative</td>\n",
       "      <td>writerdirector reading imagine since work must...</td>\n",
       "    </tr>\n",
       "    <tr>\n",
       "      <td>3</td>\n",
       "      <td>This is a classic B type movie that you'd rath...</td>\n",
       "      <td>negative</td>\n",
       "      <td>classic b type movie youd rather waste time se...</td>\n",
       "    </tr>\n",
       "    <tr>\n",
       "      <td>4</td>\n",
       "      <td>A short review but...&lt;br /&gt;&lt;br /&gt;Avoid at all ...</td>\n",
       "      <td>negative</td>\n",
       "      <td>short review butbr br avoid costs thorough was...</td>\n",
       "    </tr>\n",
       "  </tbody>\n",
       "</table>\n",
       "</div>"
      ],
      "text/plain": [
       "                                              review sentiment  \\\n",
       "0  An excellent cast who do their best with an aw...  negative   \n",
       "1  A dreary and pointless bit of fluff (bloody fl...  negative   \n",
       "2  If the writer/director is reading this (and I ...  negative   \n",
       "3  This is a classic B type movie that you'd rath...  negative   \n",
       "4  A short review but...<br /><br />Avoid at all ...  negative   \n",
       "\n",
       "                                        review_clean  \n",
       "0  excellent cast best awful script inept directi...  \n",
       "1  dreary pointless bit fluff bloody fluff fluff ...  \n",
       "2  writerdirector reading imagine since work must...  \n",
       "3  classic b type movie youd rather waste time se...  \n",
       "4  short review butbr br avoid costs thorough was...  "
      ]
     },
     "execution_count": 9,
     "metadata": {},
     "output_type": "execute_result"
    }
   ],
   "source": [
    "# load raw stopwords\n",
    "stop_words = stopwords.words('english')\n",
    "\n",
    "# Remove 'from' from stopwords\n",
    "stop_words.remove('from')\n",
    "\n",
    "# Make sure that stopwords do not contain 'from' word\n",
    "print('from' in stop_words)\n",
    "\n",
    "df['review_clean'] = df['review_clean'].map(lambda x:' '.join([word for word in x.split() if word not in (stop_words)]))\n",
    "\n",
    "df.head()"
   ]
  },
  {
   "cell_type": "markdown",
   "metadata": {},
   "source": [
    "### EDA"
   ]
  },
  {
   "cell_type": "code",
   "execution_count": 10,
   "metadata": {},
   "outputs": [
    {
     "name": "stdout",
     "output_type": "stream",
     "text": [
      "Generating a WordCloud of positive reviews...\n",
      "Generating a WordCloud of negative reviews...\n"
     ]
    },
    {
     "data": {
      "text/plain": [
       "<Figure size 432x288 with 0 Axes>"
      ]
     },
     "metadata": {},
     "output_type": "display_data"
    },
    {
     "data": {
      "image/png": "[encoded data removed]",
      "text/plain": [
       "<Figure size 432x288 with 1 Axes>"
      ]
     },
     "metadata": {
      "needs_background": "light"
     },
     "output_type": "display_data"
    },
    {
     "data": {
      "image/png": "[encoded data removed]",
      "text/plain": [
       "<Figure size 432x288 with 1 Axes>"
      ]
     },
     "metadata": {
      "needs_background": "light"
     },
     "output_type": "display_data"
    }
   ],
   "source": [
    "# Generate wordclouds of positive and negative reviews for exploratory purposes and identification of potential stopwords\n",
    "\n",
    "color_dict = {'positive': 'summer', 'negative':'Reds'}\n",
    "\n",
    "plt.figure()\n",
    "\n",
    "for sent in ['positive', 'negative']:\n",
    "    \n",
    "    print(f'Generating a WordCloud of {sent} reviews...')\n",
    "    \n",
    "    # Join the different processed titles together.\n",
    "    long_string = ','.join(list(df.loc[df['sentiment']==sent]['review_clean'].values))\n",
    "\n",
    "    # Create a WordCloud object\n",
    "    wordcloud = WordCloud(background_color=\"white\", max_words=30, colormap = color_dict[sent])\n",
    "\n",
    "    # Generate a WordCloud \n",
    "    wordcloud.generate(long_string)\n",
    "\n",
    "    # Visualize the word cloud\n",
    "    plt.figure()\n",
    "    plt.imshow(wordcloud, interpolation='bilinear')\n",
    "    plt.axis(\"off\")\n",
    "    plt.imshow(wordcloud, interpolation=\"bilinear\")\n",
    "    plt.axis(\"off\")\n",
    "\n",
    "# br is a commonly appearing word which is rubbish information for the algorithm. Let's remove this word from reviews\n",
    "df['review_clean'] = df['review_clean'].map(lambda x: re.sub('br', '', x))\n"
   ]
  },
  {
   "cell_type": "code",
   "execution_count": 11,
   "metadata": {},
   "outputs": [
    {
     "data": {
      "image/png": "[encoded data removed]",
      "text/plain": [
       "<Figure size 1296x432 with 1 Axes>"
      ]
     },
     "metadata": {
      "needs_background": "light"
     },
     "output_type": "display_data"
    }
   ],
   "source": [
    "# Explore most common words\n",
    "\n",
    "aggregate_counter = Counter()\n",
    "for row_index,row in pd.DataFrame(df['review_clean']).iterrows():\n",
    "    c = Counter(row['review_clean'].split())\n",
    "    aggregate_counter += c\n",
    "\n",
    "common_words = [word[0] for word in aggregate_counter.most_common(40)]\n",
    "common_words_counts = [word[1] for word in aggregate_counter.most_common(40)]\n",
    "\n",
    "barplot(words=common_words, words_counts=common_words_counts, title='Most Frequent Words used in imdb reviews.')"
   ]
  },
  {
   "cell_type": "markdown",
   "metadata": {},
   "source": [
    "### Any other text cleaning and standard processing"
   ]
  },
  {
   "cell_type": "code",
   "execution_count": 12,
   "metadata": {
    "scrolled": true
   },
   "outputs": [
    {
     "data": {
      "text/html": [
       "<div>\n",
       "<style scoped>\n",
       "    .dataframe tbody tr th:only-of-type {\n",
       "        vertical-align: middle;\n",
       "    }\n",
       "\n",
       "    .dataframe tbody tr th {\n",
       "        vertical-align: top;\n",
       "    }\n",
       "\n",
       "    .dataframe thead th {\n",
       "        text-align: right;\n",
       "    }\n",
       "</style>\n",
       "<table border=\"1\" class=\"dataframe\">\n",
       "  <thead>\n",
       "    <tr style=\"text-align: right;\">\n",
       "      <th></th>\n",
       "      <th>review</th>\n",
       "      <th>sentiment</th>\n",
       "      <th>review_clean</th>\n",
       "      <th>review_tokens</th>\n",
       "      <th>review_lemmatized</th>\n",
       "    </tr>\n",
       "  </thead>\n",
       "  <tbody>\n",
       "    <tr>\n",
       "      <td>0</td>\n",
       "      <td>An excellent cast who do their best with an aw...</td>\n",
       "      <td>negative</td>\n",
       "      <td>excellent cast best awful script inept directi...</td>\n",
       "      <td>[excellent, cast, best, awful, script, inept, ...</td>\n",
       "      <td>excellent cast best awful script inept directi...</td>\n",
       "    </tr>\n",
       "    <tr>\n",
       "      <td>1</td>\n",
       "      <td>A dreary and pointless bit of fluff (bloody fl...</td>\n",
       "      <td>negative</td>\n",
       "      <td>dreary pointless bit fluff bloody fluff fluff ...</td>\n",
       "      <td>[dreary, pointless, bit, fluff, bloody, fluff,...</td>\n",
       "      <td>dreary pointless bit fluff bloody fluff fluff ...</td>\n",
       "    </tr>\n",
       "    <tr>\n",
       "      <td>2</td>\n",
       "      <td>If the writer/director is reading this (and I ...</td>\n",
       "      <td>negative</td>\n",
       "      <td>writerdirector reading imagine since work must...</td>\n",
       "      <td>[writerdirector, reading, imagine, since, work...</td>\n",
       "      <td>writerdirector reading imagine since work must...</td>\n",
       "    </tr>\n",
       "    <tr>\n",
       "      <td>3</td>\n",
       "      <td>This is a classic B type movie that you'd rath...</td>\n",
       "      <td>negative</td>\n",
       "      <td>classic b type movie youd rather waste time se...</td>\n",
       "      <td>[classic, b, type, movie, youd, rather, waste,...</td>\n",
       "      <td>classic b type movie youd rather waste time se...</td>\n",
       "    </tr>\n",
       "    <tr>\n",
       "      <td>4</td>\n",
       "      <td>A short review but...&lt;br /&gt;&lt;br /&gt;Avoid at all ...</td>\n",
       "      <td>negative</td>\n",
       "      <td>short review but avoid costs thorough waste mi...</td>\n",
       "      <td>[short, review, but, avoid, cost, thorough, wa...</td>\n",
       "      <td>short review but avoid cost thorough waste min...</td>\n",
       "    </tr>\n",
       "  </tbody>\n",
       "</table>\n",
       "</div>"
      ],
      "text/plain": [
       "                                              review sentiment  \\\n",
       "0  An excellent cast who do their best with an aw...  negative   \n",
       "1  A dreary and pointless bit of fluff (bloody fl...  negative   \n",
       "2  If the writer/director is reading this (and I ...  negative   \n",
       "3  This is a classic B type movie that you'd rath...  negative   \n",
       "4  A short review but...<br /><br />Avoid at all ...  negative   \n",
       "\n",
       "                                        review_clean  \\\n",
       "0  excellent cast best awful script inept directi...   \n",
       "1  dreary pointless bit fluff bloody fluff fluff ...   \n",
       "2  writerdirector reading imagine since work must...   \n",
       "3  classic b type movie youd rather waste time se...   \n",
       "4  short review but avoid costs thorough waste mi...   \n",
       "\n",
       "                                       review_tokens  \\\n",
       "0  [excellent, cast, best, awful, script, inept, ...   \n",
       "1  [dreary, pointless, bit, fluff, bloody, fluff,...   \n",
       "2  [writerdirector, reading, imagine, since, work...   \n",
       "3  [classic, b, type, movie, youd, rather, waste,...   \n",
       "4  [short, review, but, avoid, cost, thorough, wa...   \n",
       "\n",
       "                                   review_lemmatized  \n",
       "0  excellent cast best awful script inept directi...  \n",
       "1  dreary pointless bit fluff bloody fluff fluff ...  \n",
       "2  writerdirector reading imagine since work must...  \n",
       "3  classic b type movie youd rather waste time se...  \n",
       "4  short review but avoid cost thorough waste min...  "
      ]
     },
     "execution_count": 12,
     "metadata": {},
     "output_type": "execute_result"
    }
   ],
   "source": [
    "# Remove empty string reviews\n",
    "df = df.loc[df['review_clean']!='', :].reset_index(drop=True)\n",
    "\n",
    "# Replace double spaces with single spaces\n",
    "df['review_clean'] = df['review_clean'].map(lambda x:re.sub(' {2,}', ' ', x))\n",
    "\n",
    "# Apply Lemmatization\n",
    "df['review_tokens'] = df['review_clean'].map(lambda x:x.split())\n",
    "lemmatizer = WordNetLemmatizer() \n",
    "df['review_tokens'] = df['review_tokens'].apply(lambda lst:[lemmatizer.lemmatize(word) for word in lst])\n",
    "df['review_lemmatized'] = df['review_tokens'].apply(lambda x:' '.join(x))\n",
    "\n",
    "df.head()"
   ]
  },
  {
   "cell_type": "markdown",
   "metadata": {},
   "source": [
    "### Explore topics mentioned in the reviews"
   ]
  },
  {
   "cell_type": "code",
   "execution_count": 13,
   "metadata": {},
   "outputs": [
    {
     "name": "stdout",
     "output_type": "stream",
     "text": [
      "Topics found via LDA:\n",
      "\n",
      "Topic #0:\n",
      "zombie custer flynn one errol scott horse from fido dead hospital david corbett welles john\n",
      "\n",
      "Topic #1:\n",
      "film one great movie scene good best performance from role story well also make character\n",
      "\n",
      "Topic #2:\n",
      "film character also best from performance man one role great tarzan story scene like year\n",
      "\n",
      "Topic #3:\n",
      "opera betty andrew film soap bed nurse argento carmen oliver tony love dana murder dixon\n",
      "\n",
      "Topic #4:\n",
      "movie one film like good really time see great get think dont from would watch\n",
      "\n",
      "Topic #5:\n",
      "from one film performance play get time best good actor story also great western role\n",
      "\n",
      "Topic #6:\n",
      "film movie well character story good one from like love plot actor action much acting\n",
      "\n",
      "Topic #7:\n",
      "one film from reynolds time camp burt game lena also woman story two friend star\n",
      "\n",
      "Topic #8:\n",
      "song dance musical marie from film streisand astaire concert fred music singing rogers ginger one\n",
      "\n",
      "Topic #9:\n",
      "from episode one series show time character see like first people story also planet make\n",
      "\n",
      "Topic #10:\n",
      "film one from story life character time scene people world like also way even make\n",
      "\n",
      "Topic #11:\n",
      "show series episode one life character tv family season time from like love good would\n",
      "\n",
      "Topic #12:\n",
      "horror film one from story house creepy harry get make like bug time go still\n",
      "\n",
      "Topic #13:\n",
      "cat disney jerry king mouse cartoon dog song ninja animation lion muppet steve movie from\n",
      "\n",
      "Topic #14:\n",
      "war movie from soldier one german like american man film vietnam time army military great\n",
      "\n",
      "Topic #15:\n",
      "from film one man get murder time also match good michael take two new woman\n",
      "\n",
      "Topic #16:\n",
      "movie character film role great story girl well one make play danny work from family\n",
      "\n",
      "Topic #17:\n",
      "game good one from movie killer man film horror get monster cop also well like\n",
      "\n",
      "Topic #18:\n",
      "film from bond father one victoria play mother role scene wife never son good new\n",
      "\n",
      "Topic #19:\n",
      "movie film like from one great funny see comedy time well character also show even\n"
     ]
    }
   ],
   "source": [
    "# Prepare the data for topic modelling\n",
    "count_vectorizer = CountVectorizer()\n",
    "count_data = count_vectorizer.fit_transform(df['review_lemmatized'])\n",
    "\n",
    "# Tweak the two parameters below\n",
    "number_topics = 20\n",
    "number_words = 15\n",
    "\n",
    "# Create and fit the LDA model\n",
    "lda = LDA(n_components=number_topics, n_jobs=-1)\n",
    "lda.fit(count_data)\n",
    "\n",
    "# Print the topics found by the LDA model\n",
    "print(\"Topics found via LDA:\")\n",
    "print_topics(lda, count_vectorizer, number_words)"
   ]
  },
  {
   "cell_type": "markdown",
   "metadata": {},
   "source": [
    "## Build a classifier\n",
    "\n",
    "- Target variable is 'sentiment', build a classifier and assess its performance"
   ]
  },
  {
   "cell_type": "markdown",
   "metadata": {},
   "source": [
    "### 1) First classifier to be tested is Random Forest"
   ]
  },
  {
   "cell_type": "code",
   "execution_count": 14,
   "metadata": {},
   "outputs": [],
   "source": [
    "# Transform target variable to dummy variable\n",
    "df['sentiment'] = [1 if x == 'positive' else 0 for x in df['sentiment']]"
   ]
  },
  {
   "cell_type": "code",
   "execution_count": 15,
   "metadata": {},
   "outputs": [],
   "source": [
    "# Prepare text corpus for training\n",
    "corpus=[]\n",
    "\n",
    "for rev in df['review_lemmatized']:\n",
    "    corpus.append(rev)\n",
    "    "
   ]
  },
  {
   "cell_type": "code",
   "execution_count": 16,
   "metadata": {},
   "outputs": [],
   "source": [
    "# Transform text data into a numeric format (TF IDF matrix)\n",
    "vectorizer = TfidfVectorizer(max_features=2500, min_df=7, max_df=0.8)\n",
    "processed_features = vectorizer.fit_transform(corpus).toarray()"
   ]
  },
  {
   "cell_type": "code",
   "execution_count": 17,
   "metadata": {},
   "outputs": [
    {
     "data": {
      "text/plain": [
       "(27502, 2500)"
      ]
     },
     "execution_count": 17,
     "metadata": {},
     "output_type": "execute_result"
    }
   ],
   "source": [
    "processed_features.shape"
   ]
  },
  {
   "cell_type": "code",
   "execution_count": 18,
   "metadata": {},
   "outputs": [],
   "source": [
    "# Split data onto train and test sets\n",
    "labels = df['sentiment'].values\n",
    "X_train, X_test, y_train, y_test = train_test_split(processed_features, labels, test_size=0.2, random_state=0)"
   ]
  },
  {
   "cell_type": "code",
   "execution_count": 19,
   "metadata": {},
   "outputs": [
    {
     "name": "stdout",
     "output_type": "stream",
     "text": [
      "[0.97561453 0.97466001 0.97280376 0.97433386]\n",
      "Average F1 Score of Random Forest classifier equals: 0.97\n"
     ]
    }
   ],
   "source": [
    "# Train and cross validate the estimator\n",
    "\n",
    "clf = RandomForestClassifier(n_estimators=64, random_state=0)\n",
    "\n",
    "scores = cross_val_score(clf, X_train, y_train, cv=4, scoring='f1')\n",
    "\n",
    "print(scores)\n",
    "\n",
    "rf_score = scores.mean()\n",
    "\n",
    "print(f'Average F1 Score of Random Forest classifier equals: {np.round(rf_score,2)}')"
   ]
  },
  {
   "cell_type": "markdown",
   "metadata": {},
   "source": [
    "### 2) Second classifier to be tested is XGBoost"
   ]
  },
  {
   "cell_type": "code",
   "execution_count": 20,
   "metadata": {},
   "outputs": [
    {
     "name": "stdout",
     "output_type": "stream",
     "text": [
      "[0.97873182 0.97961203 0.97844998 0.97813829]\n",
      "Average F1 Score of XGBoost classifier equals: 0.98\n"
     ]
    }
   ],
   "source": [
    "# Train and cross validate the estimator\n",
    "\n",
    "from sklearn.model_selection import cross_val_score\n",
    "\n",
    "clf = xgb.XGBClassifier(objective=\"binary:logistic\", random_state=0)\n",
    "scores = cross_val_score(clf, X_train, y_train, cv=4, scoring='f1')\n",
    "\n",
    "print(scores)\n",
    "\n",
    "xgb_score = scores.mean()\n",
    "\n",
    "print(f'Average F1 Score of XGBoost classifier equals: {np.round(xgb_score,2)}')"
   ]
  },
  {
   "cell_type": "markdown",
   "metadata": {},
   "source": [
    "##### Since we pay attention to the accuracy of predictions of both, positive and negative labels, F1 Score is selected as a metric decisive of which model should be chosen. This being said, XGBoost slightly outperformed Random Forest classifier in analyzed use-case with cross-validated F1 Score of 0.98."
   ]
  },
  {
   "cell_type": "markdown",
   "metadata": {},
   "source": [
    "# Anomaly detection on \"review\" column"
   ]
  },
  {
   "cell_type": "markdown",
   "metadata": {},
   "source": [
    "## An anomaly in a set of text reviews can be considered in terms of the:\n",
    "1) Extreme review length (extremely short; extremely long reviews)\n",
    "\n",
    "2) Reviews content (reviews containing least common words; reviews NOT containing most common words)"
   ]
  },
  {
   "cell_type": "markdown",
   "metadata": {},
   "source": [
    "### Find extremely short/long reviews"
   ]
  },
  {
   "cell_type": "code",
   "execution_count": 21,
   "metadata": {},
   "outputs": [
    {
     "data": {
      "text/plain": [
       "(array([-2000.,     0.,  2000.,  4000.,  6000.,  8000., 10000.]),\n",
       " <a list of 7 Text major ticklabel objects>)"
      ]
     },
     "execution_count": 21,
     "metadata": {},
     "output_type": "execute_result"
    },
    {
     "data": {
      "image/png": "[encoded data removed]",
      "text/plain": [
       "<Figure size 1296x576 with 2 Axes>"
      ]
     },
     "metadata": {
      "needs_background": "light"
     },
     "output_type": "display_data"
    }
   ],
   "source": [
    "# Explore distribution of review length\n",
    "df['review_length'] = df['review_clean'].apply(lambda x:len(x))\n",
    "\n",
    "\n",
    "fig, (ax1, ax2) = plt.subplots(1,2, figsize=(18,8))\n",
    "fig.suptitle('Imbd review length distribution', fontsize=20, fontweight='bold', color='#626667')\n",
    "ax1.hist(df['review_length'], bins=30)\n",
    "ax2.boxplot(df['review_length'])\n",
    "plt.xticks(fontsize=12)\n",
    "plt.yticks(fontsize=12)"
   ]
  },
  {
   "cell_type": "code",
   "execution_count": 22,
   "metadata": {},
   "outputs": [],
   "source": [
    "# Based on above visualizations, we conclude that reviews that have less than 200 characters or more than 2000 characters are \n",
    "# anomalies"
   ]
  },
  {
   "cell_type": "code",
   "execution_count": 23,
   "metadata": {},
   "outputs": [
    {
     "name": "stdout",
     "output_type": "stream",
     "text": [
      "The dataset contains 3729 extremelly short or long reviews\n"
     ]
    }
   ],
   "source": [
    "df['length_anomaly']=0\n",
    "df.loc[(df['review_length']<200)|(df['review_length']>2000), 'length_anomaly']=1\n",
    "\n",
    "print(f\"The dataset contains {df['length_anomaly'].value_counts().loc[1]} extremelly short or long reviews\")\n",
    "      "
   ]
  },
  {
   "cell_type": "markdown",
   "metadata": {},
   "source": [
    "### Find reviews that do not contain most popular words"
   ]
  },
  {
   "cell_type": "code",
   "execution_count": 24,
   "metadata": {},
   "outputs": [
    {
     "name": "stdout",
     "output_type": "stream",
     "text": [
      "The dataset contains 36 reviews that do not contain 40 most common words\n"
     ]
    }
   ],
   "source": [
    "df['popularword_anomaly']=0\n",
    "\n",
    "df['popularword_anomaly']=pd.Series(df['review_clean'].apply(lambda x:any(item in x.split() for item in common_words)))\n",
    "\n",
    "print(f\"The dataset contains {df['popularword_anomaly'].value_counts().loc[False]} reviews that do not contain 40 most common words\")\n"
   ]
  },
  {
   "cell_type": "markdown",
   "metadata": {},
   "source": [
    "### Find reviews that contain least popular words"
   ]
  },
  {
   "cell_type": "code",
   "execution_count": 28,
   "metadata": {},
   "outputs": [
    {
     "name": "stdout",
     "output_type": "stream",
     "text": [
      "The dataset contains 28 reviews that contain 40 most uncommon words\n"
     ]
    }
   ],
   "source": [
    "# prepare a list of least common words\n",
    "uncommon_words=[word[0] for word in aggregate_counter.most_common()]\n",
    "uncommon_words.reverse()\n",
    "uncommon_words=uncommon_words[:40]\n",
    "\n",
    "df['unpoppularword_anomaly']=0\n",
    "\n",
    "df['unpoppularword_anomaly']=pd.Series(df['review_clean'].apply(lambda x:any(item in x.split() for item in uncommon_words)))\n",
    "\n",
    "print(f\"The dataset contains {df['unpoppularword_anomaly'].value_counts().loc[True]} reviews that contain 40 most uncommon words\")\n"
   ]
  },
  {
   "cell_type": "code",
   "execution_count": null,
   "metadata": {},
   "outputs": [],
   "source": []
  },
  {
   "cell_type": "code",
   "execution_count": null,
   "metadata": {},
   "outputs": [],
   "source": []
  }
 ],
 "metadata": {
  "kernelspec": {
   "display_name": "Python 3",
   "language": "python",
   "name": "python3"
  },
  "language_info": {
   "codemirror_mode": {
    "name": "ipython",
    "version": 3
   },
   "file_extension": ".py",
   "mimetype": "text/x-python",
   "name": "python",
   "nbconvert_exporter": "python",
   "pygments_lexer": "ipython3",
   "version": "3.7.4"
  }
 },
 "nbformat": 4,
 "nbformat_minor": 2
}
